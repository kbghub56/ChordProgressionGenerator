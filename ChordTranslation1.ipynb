{
 "cells": [
  {
   "cell_type": "code",
   "execution_count": 37,
   "id": "b3dcae23",
   "metadata": {},
   "outputs": [],
   "source": [
    "import librosa\n",
    "import numpy as np\n",
    "from music21 import *"
   ]
  },
  {
   "cell_type": "code",
   "execution_count": 41,
   "id": "826304b2",
   "metadata": {},
   "outputs": [],
   "source": [
    "def extract_notes_from_wav(file_path):\n",
    "    y, sr = librosa.load(file_path)    \n",
    "    chroma = librosa.feature.chroma_stft(y=y, sr=sr)\n",
    "    chords = librosa.decompose.nn_filter(chroma,\n",
    "                                        aggregate=np.average,\n",
    "                                        metric='cosine',\n",
    "                                        width=5)\n",
    "    top_chords = list(np.mean(chords, axis=1))\n",
    "    top_notes = [note for note, score in enumerate(top_chords) if score > 0.5]\n",
    "    \n",
    "    # Map chroma index to note\n",
    "    chroma_notes = ['C', 'C#', 'D', 'D#', 'E', 'F', 'F#', 'G', 'G#', 'A', 'A#', 'B']\n",
    "    top_notes = [chroma_notes[i] for i in top_notes]\n",
    "    \n",
    "    return top_notes"
   ]
  },
  {
   "cell_type": "code",
   "execution_count": 45,
   "id": "c7940a11",
   "metadata": {},
   "outputs": [],
   "source": [
    "def notes_to_roman(notes):\n",
    "    base_key = key.Key('C')  # Update here\n",
    "    roman_numerals = [base_key.getScaleDegreeAndAccidentalFromPitch(n)[0] for n in notes]\n",
    "    \n",
    "    # Convert scale degrees to roman numerals\n",
    "    roman_dict = {1: 'I', 2: 'II', 3: 'III', 4: 'IV', 5: 'V', 6: 'VI', 7: 'VII'}\n",
    "    roman_numerals = [roman_dict[i] for i in roman_numerals]\n",
    "    \n",
    "    return roman_numerals"
   ]
  },
  {
   "cell_type": "code",
   "execution_count": 46,
   "id": "d514efd3",
   "metadata": {},
   "outputs": [
    {
     "name": "stdout",
     "output_type": "stream",
     "text": [
      "Notes: ['E', 'G']\n",
      "Roman Numerals: ['III', 'V']\n"
     ]
    }
   ],
   "source": [
    "# Usage\n",
    "wav_file_path = \"c_major_ceg.wav\"\n",
    "notes = extract_notes_from_wav(wav_file_path)\n",
    "roman_numerals = notes_to_roman(notes)\n",
    "\n",
    "print('Notes:', notes)\n",
    "print('Roman Numerals:', roman_numerals)"
   ]
  },
  {
   "cell_type": "code",
   "execution_count": null,
   "id": "ff9cbea5",
   "metadata": {},
   "outputs": [],
   "source": []
  }
 ],
 "metadata": {
  "kernelspec": {
   "display_name": "Python 3 (ipykernel)",
   "language": "python",
   "name": "python3"
  },
  "language_info": {
   "codemirror_mode": {
    "name": "ipython",
    "version": 3
   },
   "file_extension": ".py",
   "mimetype": "text/x-python",
   "name": "python",
   "nbconvert_exporter": "python",
   "pygments_lexer": "ipython3",
   "version": "3.11.3"
  }
 },
 "nbformat": 4,
 "nbformat_minor": 5
}
